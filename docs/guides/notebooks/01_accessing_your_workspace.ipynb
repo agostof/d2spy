{
 "cells": [
  {
   "cell_type": "markdown",
   "id": "b08de278-9221-44d8-bafb-90f956c373a1",
   "metadata": {},
   "source": [
    "# Accessing your workspace projects, flights, and data products\n",
    "*This guide will walk you through the steps for requesting data from a Data to Science (D2S) instance.*\n",
    "\n",
    "To get started, you will need to import the `Auth` and `Workspace` modules."
   ]
  },
  {
   "cell_type": "code",
   "execution_count": 1,
   "id": "f83cfde3-3992-494f-a4c2-c14d5cc44186",
   "metadata": {},
   "outputs": [],
   "source": [
    "from d2spy.auth import Auth\n",
    "from d2spy.workspace import Workspace"
   ]
  },
  {
   "cell_type": "markdown",
   "id": "021f8af6-2807-4e23-a56e-5e3d72b60f16",
   "metadata": {},
   "source": [
    "You must login to a D2S instance before you can request any data. The `Auth` module will be used to handle authenticating with D2S and requesting an authorization token. You will need to provide the module with the URL to your D2S instance, the email address associated with your D2S account, and your password when prompted."
   ]
  },
  {
   "cell_type": "code",
   "execution_count": 2,
   "id": "791949ec-4cd6-4ea0-86e7-66c84f155421",
   "metadata": {},
   "outputs": [
    {
     "name": "stdin",
     "output_type": "stream",
     "text": [
      "Enter your D2S password: ········\n"
     ]
    }
   ],
   "source": [
    "# URL to a D2S instance\n",
    "d2s_url = \"http://localhost:8000\"\n",
    "\n",
    "# Login with your email address\n",
    "auth = Auth(d2s_url)\n",
    "user = auth.login(email=\"yourD2Semail@example.com\")"
   ]
  },
  {
   "cell_type": "markdown",
   "id": "7d45dd74-c365-4bac-830b-ba943e925721",
   "metadata": {},
   "source": [
    "After successfully logging in to a D2S instance, you will need to create a new workspace using the user session created in the previous step."
   ]
  },
  {
   "cell_type": "code",
   "execution_count": 3,
   "id": "1615b355-0f31-47eb-87bc-b858f2cd327b",
   "metadata": {},
   "outputs": [],
   "source": [
    "# Workspace session\n",
    "workspace = Workspace(d2s_url, auth.session)"
   ]
  },
  {
   "cell_type": "markdown",
   "id": "630a79ea-0a01-4fbb-a1b2-4703448b44e1",
   "metadata": {},
   "source": [
    "The Workspace [`get_projects`](https://py.d2s.org/workspace/#d2spy.workspace.Workspace.get_projects) method will retrieve a list of the projects your account can currently access on the D2S instance."
   ]
  },
  {
   "cell_type": "code",
   "execution_count": 4,
   "id": "33e43444-64b9-4a85-9fbb-8251c3d27009",
   "metadata": {},
   "outputs": [
    {
     "name": "stdout",
     "output_type": "stream",
     "text": [
      "NAPPN Workshop\n"
     ]
    }
   ],
   "source": [
    "# Get list of all your projects\n",
    "projects = workspace.get_projects()\n",
    "# Print title of first project (if one exists)\n",
    "if len(projects) > 0:\n",
    "    print(projects[0].title)"
   ]
  },
  {
   "cell_type": "markdown",
   "id": "1aa0acd0-b1c1-411a-b5ad-3b583785d5d7",
   "metadata": {},
   "source": [
    "The Project [`get_flights`](https://py.d2s.org/project/#d2spy.models.project.Project.get_flights) method will retrieve a list of the flights associated with a project."
   ]
  },
  {
   "cell_type": "code",
   "execution_count": 5,
   "id": "c2520341-ca07-49a8-8889-4b4f15d71080",
   "metadata": {},
   "outputs": [
    {
     "name": "stdout",
     "output_type": "stream",
     "text": [
      "Flight(acquisition_date='2022-06-04', altitude=40.0, side_overlap=85.0, forward_overlap=85.0, sensor='RGB', platform='Phantom_4')\n"
     ]
    }
   ],
   "source": [
    "# Get list of all flights for a project\n",
    "flights = projects[0].get_flights()\n",
    "# Print first flight object (if one exists)\n",
    "if len(flights) > 0:\n",
    "    print(flights[0])"
   ]
  },
  {
   "cell_type": "markdown",
   "id": "bfb49322-6518-4ee2-9030-d6a1ebe8743b",
   "metadata": {},
   "source": [
    "The Flight [`get_data_products`](https://py.d2s.org/flight/#d2spy.models.flight.Flight.get_data_products) method will retrieve a list of the data products associated with a flight."
   ]
  },
  {
   "cell_type": "code",
   "execution_count": 6,
   "id": "def1b690-0015-49bd-b45e-63538b982bb8",
   "metadata": {},
   "outputs": [
    {
     "name": "stdout",
     "output_type": "stream",
     "text": [
      "http://localhost:8000/static/projects/a0ecd7f9-a2f6-4947-bfd0-5b13af3b93ea/flights/bb82f3dc-8071-4b60-aae3-0292ddb02c80/data_products/631ecea3-bf0c-4673-a061-9586bb075dc0/1c867233-f9f5-4964-80a4-b3033ed8d082.tif\n"
     ]
    }
   ],
   "source": [
    "# Get list of data products from a flight\n",
    "data_products = flights[0].get_data_products()\n",
    "# Print the url for the first data product (if one exists)\n",
    "print(data_products[0].url)"
   ]
  },
  {
   "cell_type": "markdown",
   "id": "bb9c51f4-d1c9-4bbb-87ed-d2440d42d0be",
   "metadata": {},
   "source": [
    "These are all the methods you need to know for viewing what data your account can access on a D2S instance. Once finished exploring your data, you can revoke your authorization session with the Auth [`logout`](https://py.d2s.org/auth/#d2spy.auth.Auth.logout) method."
   ]
  },
  {
   "cell_type": "code",
   "execution_count": 7,
   "id": "84f95d9b-8862-432e-8e50-5d5b4fa0174f",
   "metadata": {},
   "outputs": [
    {
     "name": "stdout",
     "output_type": "stream",
     "text": [
      "session ended\n"
     ]
    }
   ],
   "source": [
    "# Removes access token from future requests\n",
    "auth.logout()"
   ]
  }
 ],
 "metadata": {
  "kernelspec": {
   "display_name": "Python 3 (ipykernel)",
   "language": "python",
   "name": "python3"
  },
  "language_info": {
   "codemirror_mode": {
    "name": "ipython",
    "version": 3
   },
   "file_extension": ".py",
   "mimetype": "text/x-python",
   "name": "python",
   "nbconvert_exporter": "python",
   "pygments_lexer": "ipython3",
   "version": "3.12.3"
  }
 },
 "nbformat": 4,
 "nbformat_minor": 5
}
