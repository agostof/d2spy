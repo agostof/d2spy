{
 "cells": [
  {
   "cell_type": "markdown",
   "id": "6cb79d27-e9b5-48e1-8331-9b20155a1fb1",
   "metadata": {},
   "source": [
    "[![image](https://colab.research.google.com/assets/colab-badge.svg)](https://github.com/gdslab/d2spy/blob/main/docs/guides/notebooks/01_creating_workspace_data.ipynb)"
   ]
  },
  {
   "cell_type": "markdown",
   "id": "103c50ad-69c2-4a22-bbaa-c3993816b8c3",
   "metadata": {},
   "source": [
    "# Creating new projects, flights, and data products\n",
    "*This guide will walk you through the steps for creating new data on a Data to Science (D2S) instance.*\n",
    "\n",
    "To get started, you will need to import the `Auth` and `Workspace` modules."
   ]
  },
  {
   "cell_type": "code",
   "execution_count": null,
   "id": "b87a549b-c1a7-46ac-ba43-5c6cfd9c3895",
   "metadata": {},
   "outputs": [],
   "source": [
    "# Uncomment and run the following line if working out of Google Colab\n",
    "# !pip install d2spy"
   ]
  },
  {
   "cell_type": "code",
   "execution_count": null,
   "id": "dc65d0ab-7d3f-4cfa-bb4d-f69fced95e6c",
   "metadata": {},
   "outputs": [],
   "source": [
    "from datetime import date\n",
    "\n",
    "from d2spy.auth import Auth\n",
    "from d2spy.workspace import Workspace"
   ]
  },
  {
   "cell_type": "markdown",
   "id": "d023024e-9718-4f18-87c9-0e5472d78064",
   "metadata": {},
   "source": [
    "You must login to a D2S instance before you can request any data. The `Auth` module will be used to handle authenticating with D2S and requesting an authorization token. You will need to provide the module with the URL to your D2S instance, the email address associated with your D2S account, and your password when prompted."
   ]
  },
  {
   "cell_type": "code",
   "execution_count": null,
   "id": "f44e9679-1d02-463c-a5da-d921a99f06a0",
   "metadata": {},
   "outputs": [],
   "source": [
    "# URL to a D2S instance\n",
    "d2s_url = \"http://localhost:8000\"\n",
    "\n",
    "# Login with your email address\n",
    "auth = Auth(d2s_url)\n",
    "user = auth.login(email=\"yourD2Semail@example.com\")"
   ]
  },
  {
   "cell_type": "markdown",
   "id": "e994d8af-30be-4635-9230-9b7af63dc43e",
   "metadata": {},
   "source": [
    "After successfully logging in to a D2S instance, you will need to create a new workspace using the user session created in the previous step."
   ]
  },
  {
   "cell_type": "code",
   "execution_count": null,
   "id": "42c6b131-5bd0-40c4-b191-d4c49c2c4b09",
   "metadata": {},
   "outputs": [],
   "source": [
    "# Workspace session\n",
    "workspace = Workspace(d2s_url, auth.session)"
   ]
  },
  {
   "cell_type": "markdown",
   "id": "0ee28aad-92b4-4c89-9658-54b5f1e1c9a8",
   "metadata": {},
   "source": [
    "## Creating a new project"
   ]
  },
  {
   "cell_type": "markdown",
   "id": "0b176324-6525-4568-bd6f-a1f19d04f59a",
   "metadata": {},
   "source": [
    "To create a new project in our workspace, we can use the Workspace module's [`add_project`](https://py.d2s.org/workspace/#d2spy.workspace.Workspace.add_project) method as follows:"
   ]
  },
  {
   "cell_type": "code",
   "execution_count": null,
   "id": "39d94ab8-3ffe-487a-8021-6d4c137c8783",
   "metadata": {},
   "outputs": [],
   "source": [
    "# At minimum, must provide title, description, and location (dict in GeoJSON Feature format)\n",
    "project = workspace.add_project(\n",
    "    title=\"Project title\",\n",
    "    description=\"Project for testing d2spy package.\",\n",
    "    location={\n",
    "        \"type\": \"Feature\",\n",
    "        \"geometry\": {\n",
    "            \"type\": \"Polygon\",\n",
    "            \"coordinates\": [\n",
    "                [\n",
    "                  [-86.944981783977838, 41.444435853085622],\n",
    "                  [-86.943319754949272, 41.444435046238446],\n",
    "                  [-86.94332056379109, 41.443505552529658],\n",
    "                  [-86.944982569102066, 41.443506359350643],\n",
    "                  [-86.944981783977838, 41.444435853085622]\n",
    "                ]\n",
    "            ]\n",
    "        },\n",
    "        \"properties\": {\n",
    "            \"prop0\": \"value0\"\n",
    "        }\n",
    "    }\n",
    ")\n",
    "print(project)"
   ]
  },
  {
   "cell_type": "markdown",
   "id": "226f2cc0-c529-4904-bd3f-318c5a80f8b4",
   "metadata": {},
   "source": [
    "The Workspace module's `add_project` returns a [`Project`](https://py.d2s.org/project/) instance we can use to create new flights in the project, retrieve existing flights, and update the initially provided project details.\n",
    "\n",
    "For example, we can use the Project [`update`](https://py.d2s.org/project/#d2spy.models.project.Project.update) method to change the project title."
   ]
  },
  {
   "cell_type": "code",
   "execution_count": null,
   "id": "d19141d4-9ad5-4e24-a54c-4b619c5b3516",
   "metadata": {},
   "outputs": [],
   "source": [
    "print(f\"Original title: {project.title}\")\n",
    "project.update(title=\"My First D2S Project\")\n",
    "print(f\"Updated title: {project.title}\")"
   ]
  },
  {
   "cell_type": "markdown",
   "id": "3975d503-baa0-4bf7-8b44-c9d02dd30733",
   "metadata": {},
   "source": [
    "## Adding a flight to a project"
   ]
  },
  {
   "cell_type": "markdown",
   "id": "34108f51-5961-499e-bbcc-40b53cd09b66",
   "metadata": {},
   "source": [
    "Since this is a new project, we do not have any available flights yet. We can add a flight using the Project module's [`add_flight`](https://py.d2s.org/project/#d2spy.models.project.Project.add_flight) method.\n",
    "\n",
    "**Important**\n",
    "\n",
    "The `sensor` and `platform` attributes have some limits on what values will be accepted. `Sensor` will only accept the values: \"RGB\", \"Multispectral\", \"LiDAR\", and \"Other\". `Platform` expects the values \"Phantom_4\", \"M300\", or \"M350\". It can be provided with an alternative value if none of these options are suitable. \n",
    "\n",
    "Refer to the [documentation](https://py.d2s.org/project/#d2spy.models.project.Project.add_flight) for more details."
   ]
  },
  {
   "cell_type": "code",
   "execution_count": null,
   "id": "281dc984-c73b-44c8-8483-c2bb1365a114",
   "metadata": {},
   "outputs": [],
   "source": [
    "# Example flight form\n",
    "flight = project.add_flight(\n",
    "    acquisition_date=date(2023, 6, 3),  # string in YYYY-MM-DD format also acceptable\n",
    "    altitude=40,\n",
    "    side_overlap=85,\n",
    "    forward_overlap=85,\n",
    "    sensor=\"RGB\",\n",
    "    platform=\"M350\"\n",
    ")\n",
    "print(flight)"
   ]
  },
  {
   "cell_type": "markdown",
   "id": "59221abe-066f-41e9-aada-262e0cd825a3",
   "metadata": {},
   "source": [
    "## Uploading a data product to a flight"
   ]
  },
  {
   "cell_type": "markdown",
   "id": "0ee7e2fd-99aa-4fc7-acb1-966f3eb08c06",
   "metadata": {},
   "source": [
    "Now that a flight has been created, you can start uploading data products to the flight. Note, the data product will not be immediately available after the upload completes. When D2S receives a new GeoTIFF, it will check if it is in a cloud-optimized format, and if not, perform this conversion. This process may take several minutes to complete."
   ]
  },
  {
   "cell_type": "markdown",
   "id": "0b16a94b-520e-4249-93de-40e8b782f33b",
   "metadata": {},
   "source": [
    "The Flight module's [`add_data_product`](https://py.d2s.org/flight/#d2spy.models.flight.Flight.add_data_product) method will be used to upload a GeoTIFF located on the local machine. You will need to have a GeoTIFF and know its filepath for this next cell.\n",
    "\n",
    "**Important**\n",
    "\n",
    "The `data_type` has some limits on what values will be accepted. `data_type` expects the values \"dsm\", \"point_cloud\", or \"ortho\". It can be provided with an alternative value if none of these options are suitable. \n",
    "\n",
    "Refer to the [documentation](https://py.d2s.org/flight/#d2spy.models.flight.Flight.add_data_product) for more details."
   ]
  },
  {
   "cell_type": "code",
   "execution_count": null,
   "id": "876ad429-7f77-4573-bc7b-9ff9477b5c89",
   "metadata": {},
   "outputs": [],
   "source": [
    "my_geotiff = \"/full/path/to/my/data_product.tif\"\n",
    "flight.add_data_product(\n",
    "    filepath=my_geotiff,\n",
    "    data_type=\"dsm\"\n",
    ")"
   ]
  },
  {
   "cell_type": "markdown",
   "id": "ca026bb1-26eb-4726-858c-fc66e124966a",
   "metadata": {},
   "source": [
    "When D2S has finished processing the upload the Flight module's [`get_data_products`](https://py.d2s.org/flight/#d2spy.models.flight.Flight.get_data_products) method can be used to find the uploaded data product and its static URL."
   ]
  },
  {
   "cell_type": "code",
   "execution_count": null,
   "id": "09605ad7-107b-48a4-bb98-26b41197b94c",
   "metadata": {},
   "outputs": [],
   "source": [
    "data_products = flight.get_data_products()\n",
    "try:\n",
    "    print(data_products[0].url)\n",
    "except IndexError:\n",
    "    print(\"Data product still processing or an unexpected error has occurred\")"
   ]
  },
  {
   "cell_type": "markdown",
   "id": "f3e7601c-ed5f-4871-ae5e-960422ad0e22",
   "metadata": {},
   "source": [
    "These are all the methods you need to know for creating data on a D2S instance. Once finished adding your data, you can revoke your authorization session with the Auth logout method."
   ]
  },
  {
   "cell_type": "code",
   "execution_count": null,
   "id": "f4061d99-f8e4-41a9-ac09-de4ca1015553",
   "metadata": {},
   "outputs": [],
   "source": [
    "# Removes access token from future requests\n",
    "auth.logout()"
   ]
  }
 ],
 "metadata": {
  "kernelspec": {
   "display_name": "Python 3 (ipykernel)",
   "language": "python",
   "name": "python3"
  },
  "language_info": {
   "codemirror_mode": {
    "name": "ipython",
    "version": 3
   },
   "file_extension": ".py",
   "mimetype": "text/x-python",
   "name": "python",
   "nbconvert_exporter": "python",
   "pygments_lexer": "ipython3",
   "version": "3.9.18"
  }
 },
 "nbformat": 4,
 "nbformat_minor": 5
}
